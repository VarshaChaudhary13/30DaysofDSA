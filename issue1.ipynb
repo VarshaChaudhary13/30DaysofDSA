{
  "cells": [
    {
      "cell_type": "markdown",
      "metadata": {
        "id": "view-in-github",
        "colab_type": "text"
      },
      "source": [
        "<a href=\"https://colab.research.google.com/github/VarshaChaudhary13/30DaysofDSA/blob/main/issue1.ipynb\" target=\"_parent\"><img src=\"https://colab.research.google.com/assets/colab-badge.svg\" alt=\"Open In Colab\"/></a>"
      ]
    },
    {
      "cell_type": "code",
      "execution_count": 1,
      "metadata": {
        "id": "_RLqDtICasMS",
        "colab": {
          "base_uri": "https://localhost:8080/"
        },
        "outputId": "046a011c-5136-4b93-e590-892210c62be7"
      },
      "outputs": [
        {
          "output_type": "stream",
          "name": "stdout",
          "text": [
            "Mounted at /content/drive\n"
          ]
        }
      ],
      "source": [
        "from google.colab import drive\n",
        "drive.mount('/content/drive')"
      ]
    },
    {
      "cell_type": "code",
      "execution_count": 2,
      "metadata": {
        "id": "i5g7D9S7a1mC"
      },
      "outputs": [],
      "source": [
        "import pandas as pd"
      ]
    },
    {
      "cell_type": "code",
      "execution_count": 3,
      "metadata": {
        "id": "K9WxR40IbLfo"
      },
      "outputs": [],
      "source": [
        "file_path = '/content/drive/MyDrive/Issuessss.xlsx'\n",
        "df = pd.read_excel(file_path)"
      ]
    },
    {
      "cell_type": "code",
      "execution_count": 4,
      "metadata": {
        "colab": {
          "base_uri": "https://localhost:8080/"
        },
        "id": "gxs8wo8Jb-73",
        "outputId": "1fcb8883-fd29-4ed2-9706-cbe2ffcf524f"
      },
      "outputs": [
        {
          "output_type": "stream",
          "name": "stdout",
          "text": [
            "                                          Video_path  Normal  \\\n",
            "0  https://shramin.blob.core.windows.net/files/vi...   False   \n",
            "1  https://shramin.blob.core.windows.net/files/vi...   False   \n",
            "2  https://shramin.blob.core.windows.net/files/vi...   False   \n",
            "3  https://shramin.blob.core.windows.net/files/vi...   False   \n",
            "4  https://shramin.blob.core.windows.net/files/vi...   False   \n",
            "\n",
            "   Video too short (<10s)  Video too long(>3min)  Playback_issue  \n",
            "0                    True                  False           False  \n",
            "1                    True                  False           False  \n",
            "2                   False                  False            True  \n",
            "3                   False                  False           False  \n",
            "4                    True                  False           False  \n"
          ]
        }
      ],
      "source": [
        "print(df.head())"
      ]
    },
    {
      "cell_type": "code",
      "execution_count": 5,
      "metadata": {
        "colab": {
          "base_uri": "https://localhost:8080/"
        },
        "id": "aHo3EHHucDpM",
        "outputId": "f13374d2-c2a1-4b18-dd00-81b7330b131a"
      },
      "outputs": [
        {
          "output_type": "stream",
          "name": "stdout",
          "text": [
            "                                             Video_path  Playback_issue  \\\n",
            "0     https://shramin.blob.core.windows.net/files/vi...           False   \n",
            "1     https://shramin.blob.core.windows.net/files/vi...           False   \n",
            "2     https://shramin.blob.core.windows.net/files/vi...            True   \n",
            "3     https://shramin.blob.core.windows.net/files/vi...           False   \n",
            "4     https://shramin.blob.core.windows.net/files/vi...           False   \n",
            "...                                                 ...             ...   \n",
            "996   https://shramin.blob.core.windows.net/files/vi...            True   \n",
            "997   https://shramin.blob.core.windows.net/files/vi...           False   \n",
            "998   https://shramin.blob.core.windows.net/files/vi...           False   \n",
            "999   https://shramin.blob.core.windows.net/files/vi...           False   \n",
            "1000  https://shramin.blob.core.windows.net/files/vi...           False   \n",
            "\n",
            "     Duration_Category  \n",
            "0                Short  \n",
            "1                Short  \n",
            "2               Normal  \n",
            "3               Normal  \n",
            "4                Short  \n",
            "...                ...  \n",
            "996             Normal  \n",
            "997               Long  \n",
            "998             Normal  \n",
            "999             Normal  \n",
            "1000             Short  \n",
            "\n",
            "[1001 rows x 3 columns]\n"
          ]
        }
      ],
      "source": [
        "import pandas as pd\n",
        "\n",
        "df['Duration_Category'] = 'Normal'\n",
        "\n",
        "df.loc[df['Video too short (<10s)'], 'Duration_Category'] = 'Short'\n",
        "df.loc[df['Video too long(>3min)'], 'Duration_Category'] = 'Long'\n",
        "\n",
        "df = df.drop(['Normal', 'Video too short (<10s)', 'Video too long(>3min)'], axis=1)\n",
        "print(df)\n"
      ]
    },
    {
      "cell_type": "code",
      "execution_count": 6,
      "metadata": {
        "colab": {
          "base_uri": "https://localhost:8080/"
        },
        "id": "eHa4BV0kHwVX",
        "outputId": "922186f1-f716-4e34-ab95-9b7ef69141c8"
      },
      "outputs": [
        {
          "output_type": "stream",
          "name": "stdout",
          "text": [
            "Requirement already satisfied: tensorflow in /usr/local/lib/python3.10/dist-packages (2.14.0)\n",
            "Requirement already satisfied: absl-py>=1.0.0 in /usr/local/lib/python3.10/dist-packages (from tensorflow) (1.4.0)\n",
            "Requirement already satisfied: astunparse>=1.6.0 in /usr/local/lib/python3.10/dist-packages (from tensorflow) (1.6.3)\n",
            "Requirement already satisfied: flatbuffers>=23.5.26 in /usr/local/lib/python3.10/dist-packages (from tensorflow) (23.5.26)\n",
            "Requirement already satisfied: gast!=0.5.0,!=0.5.1,!=0.5.2,>=0.2.1 in /usr/local/lib/python3.10/dist-packages (from tensorflow) (0.5.4)\n",
            "Requirement already satisfied: google-pasta>=0.1.1 in /usr/local/lib/python3.10/dist-packages (from tensorflow) (0.2.0)\n",
            "Requirement already satisfied: h5py>=2.9.0 in /usr/local/lib/python3.10/dist-packages (from tensorflow) (3.9.0)\n",
            "Requirement already satisfied: libclang>=13.0.0 in /usr/local/lib/python3.10/dist-packages (from tensorflow) (16.0.6)\n",
            "Requirement already satisfied: ml-dtypes==0.2.0 in /usr/local/lib/python3.10/dist-packages (from tensorflow) (0.2.0)\n",
            "Requirement already satisfied: numpy>=1.23.5 in /usr/local/lib/python3.10/dist-packages (from tensorflow) (1.23.5)\n",
            "Requirement already satisfied: opt-einsum>=2.3.2 in /usr/local/lib/python3.10/dist-packages (from tensorflow) (3.3.0)\n",
            "Requirement already satisfied: packaging in /usr/local/lib/python3.10/dist-packages (from tensorflow) (23.2)\n",
            "Requirement already satisfied: protobuf!=4.21.0,!=4.21.1,!=4.21.2,!=4.21.3,!=4.21.4,!=4.21.5,<5.0.0dev,>=3.20.3 in /usr/local/lib/python3.10/dist-packages (from tensorflow) (3.20.3)\n",
            "Requirement already satisfied: setuptools in /usr/local/lib/python3.10/dist-packages (from tensorflow) (67.7.2)\n",
            "Requirement already satisfied: six>=1.12.0 in /usr/local/lib/python3.10/dist-packages (from tensorflow) (1.16.0)\n",
            "Requirement already satisfied: termcolor>=1.1.0 in /usr/local/lib/python3.10/dist-packages (from tensorflow) (2.3.0)\n",
            "Requirement already satisfied: typing-extensions>=3.6.6 in /usr/local/lib/python3.10/dist-packages (from tensorflow) (4.5.0)\n",
            "Requirement already satisfied: wrapt<1.15,>=1.11.0 in /usr/local/lib/python3.10/dist-packages (from tensorflow) (1.14.1)\n",
            "Requirement already satisfied: tensorflow-io-gcs-filesystem>=0.23.1 in /usr/local/lib/python3.10/dist-packages (from tensorflow) (0.34.0)\n",
            "Requirement already satisfied: grpcio<2.0,>=1.24.3 in /usr/local/lib/python3.10/dist-packages (from tensorflow) (1.59.2)\n",
            "Requirement already satisfied: tensorboard<2.15,>=2.14 in /usr/local/lib/python3.10/dist-packages (from tensorflow) (2.14.1)\n",
            "Requirement already satisfied: tensorflow-estimator<2.15,>=2.14.0 in /usr/local/lib/python3.10/dist-packages (from tensorflow) (2.14.0)\n",
            "Requirement already satisfied: keras<2.15,>=2.14.0 in /usr/local/lib/python3.10/dist-packages (from tensorflow) (2.14.0)\n",
            "Requirement already satisfied: wheel<1.0,>=0.23.0 in /usr/local/lib/python3.10/dist-packages (from astunparse>=1.6.0->tensorflow) (0.41.3)\n",
            "Requirement already satisfied: google-auth<3,>=1.6.3 in /usr/local/lib/python3.10/dist-packages (from tensorboard<2.15,>=2.14->tensorflow) (2.17.3)\n",
            "Requirement already satisfied: google-auth-oauthlib<1.1,>=0.5 in /usr/local/lib/python3.10/dist-packages (from tensorboard<2.15,>=2.14->tensorflow) (1.0.0)\n",
            "Requirement already satisfied: markdown>=2.6.8 in /usr/local/lib/python3.10/dist-packages (from tensorboard<2.15,>=2.14->tensorflow) (3.5.1)\n",
            "Requirement already satisfied: requests<3,>=2.21.0 in /usr/local/lib/python3.10/dist-packages (from tensorboard<2.15,>=2.14->tensorflow) (2.31.0)\n",
            "Requirement already satisfied: tensorboard-data-server<0.8.0,>=0.7.0 in /usr/local/lib/python3.10/dist-packages (from tensorboard<2.15,>=2.14->tensorflow) (0.7.2)\n",
            "Requirement already satisfied: werkzeug>=1.0.1 in /usr/local/lib/python3.10/dist-packages (from tensorboard<2.15,>=2.14->tensorflow) (3.0.1)\n",
            "Requirement already satisfied: cachetools<6.0,>=2.0.0 in /usr/local/lib/python3.10/dist-packages (from google-auth<3,>=1.6.3->tensorboard<2.15,>=2.14->tensorflow) (5.3.2)\n",
            "Requirement already satisfied: pyasn1-modules>=0.2.1 in /usr/local/lib/python3.10/dist-packages (from google-auth<3,>=1.6.3->tensorboard<2.15,>=2.14->tensorflow) (0.3.0)\n",
            "Requirement already satisfied: rsa<5,>=3.1.4 in /usr/local/lib/python3.10/dist-packages (from google-auth<3,>=1.6.3->tensorboard<2.15,>=2.14->tensorflow) (4.9)\n",
            "Requirement already satisfied: requests-oauthlib>=0.7.0 in /usr/local/lib/python3.10/dist-packages (from google-auth-oauthlib<1.1,>=0.5->tensorboard<2.15,>=2.14->tensorflow) (1.3.1)\n",
            "Requirement already satisfied: charset-normalizer<4,>=2 in /usr/local/lib/python3.10/dist-packages (from requests<3,>=2.21.0->tensorboard<2.15,>=2.14->tensorflow) (3.3.2)\n",
            "Requirement already satisfied: idna<4,>=2.5 in /usr/local/lib/python3.10/dist-packages (from requests<3,>=2.21.0->tensorboard<2.15,>=2.14->tensorflow) (3.4)\n",
            "Requirement already satisfied: urllib3<3,>=1.21.1 in /usr/local/lib/python3.10/dist-packages (from requests<3,>=2.21.0->tensorboard<2.15,>=2.14->tensorflow) (2.0.7)\n",
            "Requirement already satisfied: certifi>=2017.4.17 in /usr/local/lib/python3.10/dist-packages (from requests<3,>=2.21.0->tensorboard<2.15,>=2.14->tensorflow) (2023.7.22)\n",
            "Requirement already satisfied: MarkupSafe>=2.1.1 in /usr/local/lib/python3.10/dist-packages (from werkzeug>=1.0.1->tensorboard<2.15,>=2.14->tensorflow) (2.1.3)\n",
            "Requirement already satisfied: pyasn1<0.6.0,>=0.4.6 in /usr/local/lib/python3.10/dist-packages (from pyasn1-modules>=0.2.1->google-auth<3,>=1.6.3->tensorboard<2.15,>=2.14->tensorflow) (0.5.0)\n",
            "Requirement already satisfied: oauthlib>=3.0.0 in /usr/local/lib/python3.10/dist-packages (from requests-oauthlib>=0.7.0->google-auth-oauthlib<1.1,>=0.5->tensorboard<2.15,>=2.14->tensorflow) (3.2.2)\n"
          ]
        }
      ],
      "source": [
        "!pip install tensorflow"
      ]
    },
    {
      "cell_type": "code",
      "execution_count": 7,
      "metadata": {
        "colab": {
          "base_uri": "https://localhost:8080/"
        },
        "id": "M4KmlQ08UK_V",
        "outputId": "9def3747-cfda-4e59-9adf-2c6b4689d1af"
      },
      "outputs": [
        {
          "output_type": "stream",
          "name": "stdout",
          "text": [
            "Initial Distribution of Classes:\n",
            "False    927\n",
            "True      74\n",
            "Name: Playback_issue, dtype: int64\n",
            "\n",
            "Distribution of Classes after Removing Videos with Playback Issues:\n",
            "False    927\n",
            "Name: Playback_issue, dtype: int64\n"
          ]
        }
      ],
      "source": [
        "import pandas as pd\n",
        "\n",
        "print(\"Initial Distribution of Classes:\")\n",
        "\n",
        "print(df['Playback_issue'].value_counts())\n",
        "\n",
        "df_cleaned = df[df['Playback_issue'] == False]\n",
        "\n",
        "print(\"\\nDistribution of Classes after Removing Videos with Playback Issues:\")\n",
        "print(df_cleaned['Playback_issue'].value_counts())"
      ]
    },
    {
      "cell_type": "code",
      "source": [
        "print(df_cleaned)"
      ],
      "metadata": {
        "colab": {
          "base_uri": "https://localhost:8080/"
        },
        "id": "ZdD0txD1GXkE",
        "outputId": "a9ca05ca-5fa6-46e2-e23c-c6e7c02d9e92"
      },
      "execution_count": 8,
      "outputs": [
        {
          "output_type": "stream",
          "name": "stdout",
          "text": [
            "                                             Video_path  Playback_issue  \\\n",
            "0     https://shramin.blob.core.windows.net/files/vi...           False   \n",
            "1     https://shramin.blob.core.windows.net/files/vi...           False   \n",
            "3     https://shramin.blob.core.windows.net/files/vi...           False   \n",
            "4     https://shramin.blob.core.windows.net/files/vi...           False   \n",
            "5     https://shramin.blob.core.windows.net/files/vi...           False   \n",
            "...                                                 ...             ...   \n",
            "995   https://shramin.blob.core.windows.net/files/vi...           False   \n",
            "997   https://shramin.blob.core.windows.net/files/vi...           False   \n",
            "998   https://shramin.blob.core.windows.net/files/vi...           False   \n",
            "999   https://shramin.blob.core.windows.net/files/vi...           False   \n",
            "1000  https://shramin.blob.core.windows.net/files/vi...           False   \n",
            "\n",
            "     Duration_Category  \n",
            "0                Short  \n",
            "1                Short  \n",
            "3               Normal  \n",
            "4                Short  \n",
            "5               Normal  \n",
            "...                ...  \n",
            "995             Normal  \n",
            "997               Long  \n",
            "998             Normal  \n",
            "999             Normal  \n",
            "1000             Short  \n",
            "\n",
            "[927 rows x 3 columns]\n"
          ]
        }
      ]
    },
    {
      "cell_type": "code",
      "execution_count": 9,
      "metadata": {
        "colab": {
          "base_uri": "https://localhost:8080/"
        },
        "id": "xl6gpvbtVFRg",
        "outputId": "9426566c-bc86-4d34-b0bb-d819fd16a8b1"
      },
      "outputs": [
        {
          "output_type": "stream",
          "name": "stdout",
          "text": [
            "                                             Video_path  Playback_issue  \\\n",
            "0     https://shramin.blob.core.windows.net/files/vi...           False   \n",
            "1     https://shramin.blob.core.windows.net/files/vi...           False   \n",
            "3     https://shramin.blob.core.windows.net/files/vi...           False   \n",
            "4     https://shramin.blob.core.windows.net/files/vi...           False   \n",
            "5     https://shramin.blob.core.windows.net/files/vi...           False   \n",
            "...                                                 ...             ...   \n",
            "995   https://shramin.blob.core.windows.net/files/vi...           False   \n",
            "997   https://shramin.blob.core.windows.net/files/vi...           False   \n",
            "998   https://shramin.blob.core.windows.net/files/vi...           False   \n",
            "999   https://shramin.blob.core.windows.net/files/vi...           False   \n",
            "1000  https://shramin.blob.core.windows.net/files/vi...           False   \n",
            "\n",
            "     Duration_Category  \n",
            "0                Short  \n",
            "1                Short  \n",
            "3               Normal  \n",
            "4                Short  \n",
            "5               Normal  \n",
            "...                ...  \n",
            "995             Normal  \n",
            "997               Long  \n",
            "998             Normal  \n",
            "999             Normal  \n",
            "1000             Short  \n",
            "\n",
            "[927 rows x 3 columns]\n"
          ]
        }
      ],
      "source": [
        "df=df_cleaned\n",
        "print(df)"
      ]
    },
    {
      "cell_type": "code",
      "execution_count": 10,
      "metadata": {
        "colab": {
          "base_uri": "https://localhost:8080/"
        },
        "id": "IUYoac_0e3BF",
        "outputId": "7e8fdfc9-5091-4e6d-aa8c-b15b4af0a896"
      },
      "outputs": [
        {
          "output_type": "stream",
          "name": "stdout",
          "text": [
            "Requirement already satisfied: opencv-python in /usr/local/lib/python3.10/dist-packages (4.8.0.76)\n",
            "Requirement already satisfied: numpy>=1.21.2 in /usr/local/lib/python3.10/dist-packages (from opencv-python) (1.23.5)\n",
            "Requirement already satisfied: moviepy in /usr/local/lib/python3.10/dist-packages (1.0.3)\n",
            "Requirement already satisfied: decorator<5.0,>=4.0.2 in /usr/local/lib/python3.10/dist-packages (from moviepy) (4.4.2)\n",
            "Requirement already satisfied: tqdm<5.0,>=4.11.2 in /usr/local/lib/python3.10/dist-packages (from moviepy) (4.66.1)\n",
            "Requirement already satisfied: requests<3.0,>=2.8.1 in /usr/local/lib/python3.10/dist-packages (from moviepy) (2.31.0)\n",
            "Requirement already satisfied: proglog<=1.0.0 in /usr/local/lib/python3.10/dist-packages (from moviepy) (0.1.10)\n",
            "Requirement already satisfied: numpy>=1.17.3 in /usr/local/lib/python3.10/dist-packages (from moviepy) (1.23.5)\n",
            "Requirement already satisfied: imageio<3.0,>=2.5 in /usr/local/lib/python3.10/dist-packages (from moviepy) (2.31.6)\n",
            "Requirement already satisfied: imageio-ffmpeg>=0.2.0 in /usr/local/lib/python3.10/dist-packages (from moviepy) (0.4.9)\n",
            "Requirement already satisfied: pillow<10.1.0,>=8.3.2 in /usr/local/lib/python3.10/dist-packages (from imageio<3.0,>=2.5->moviepy) (9.4.0)\n",
            "Requirement already satisfied: setuptools in /usr/local/lib/python3.10/dist-packages (from imageio-ffmpeg>=0.2.0->moviepy) (67.7.2)\n",
            "Requirement already satisfied: charset-normalizer<4,>=2 in /usr/local/lib/python3.10/dist-packages (from requests<3.0,>=2.8.1->moviepy) (3.3.2)\n",
            "Requirement already satisfied: idna<4,>=2.5 in /usr/local/lib/python3.10/dist-packages (from requests<3.0,>=2.8.1->moviepy) (3.4)\n",
            "Requirement already satisfied: urllib3<3,>=1.21.1 in /usr/local/lib/python3.10/dist-packages (from requests<3.0,>=2.8.1->moviepy) (2.0.7)\n",
            "Requirement already satisfied: certifi>=2017.4.17 in /usr/local/lib/python3.10/dist-packages (from requests<3.0,>=2.8.1->moviepy) (2023.7.22)\n"
          ]
        }
      ],
      "source": [
        "!pip install opencv-python\n",
        "!pip install moviepy"
      ]
    },
    {
      "cell_type": "code",
      "source": [
        "from moviepy.editor import VideoFileClip\n",
        "import pandas as pd\n",
        "import tempfile\n",
        "import os\n",
        "import requests\n",
        "\n",
        "# Assuming you already have a DataFrame named 'df' with a column 'Video_path'\n",
        "\n",
        "# Create a new column to store the video durations\n",
        "df['Duration'] = 0.0\n",
        "df['Duration_Category'] = ''\n",
        "\n",
        "# Create a temporary directory to download videos\n",
        "temp_dir = tempfile.mkdtemp()\n",
        "\n",
        "for index, row in df_cleaned.iterrows():\n",
        "    try:\n",
        "        video_url = row['Video_path']\n",
        "\n",
        "        # Check for invalid or missing URLs\n",
        "        if pd.isnull(video_url) or not video_url.strip():  # Check for 'nan' or empty URLs\n",
        "            raise ValueError(\"Invalid URL or empty path\")\n",
        "\n",
        "        # Download the video to the temporary directory\n",
        "        video_path_local = os.path.join(temp_dir, f\"video_{index}.mp4\")\n",
        "        with open(video_path_local, 'wb') as video_file:\n",
        "            response = requests.get(video_url)\n",
        "            video_file.write(response.content)\n",
        "\n",
        "        # Read video file using moviepy\n",
        "        video_clip = VideoFileClip(video_path_local)\n",
        "\n",
        "        # Get video duration\n",
        "        duration = video_clip.duration\n",
        "\n",
        "        # Update the 'Duration' column\n",
        "        df_cleaned.at[index, 'Duration'] = duration\n",
        "\n",
        "        # Classify videos based on duration\n",
        "        if duration < 10:\n",
        "            duration_category = 'Short'\n",
        "        elif duration > 60:\n",
        "            duration_category = 'Long'\n",
        "        else:\n",
        "            duration_category = 'Normal'\n",
        "\n",
        "        # Update the 'Duration_Category' column\n",
        "        df_cleaned.at[index, 'Duration_Category'] = duration_category\n",
        "\n",
        "        # Close the video clip\n",
        "        video_clip.close()\n",
        "\n",
        "    except Exception as e:\n",
        "        print(f\"Error processing {video_url}: {str(e)}\")\n",
        "\n",
        "# Display the updated DataFrame\n",
        "print(df_cleaned)\n",
        "\n",
        "# Clean up: Remove temporary directory and downloaded videos\n",
        "for file_name in os.listdir(temp_dir):\n",
        "    file_path = os.path.join(temp_dir, file_name)\n",
        "    os.remove(file_path)\n",
        "\n",
        "os.rmdir(temp_dir)\n"
      ],
      "metadata": {
        "colab": {
          "base_uri": "https://localhost:8080/"
        },
        "id": "ejSSTKftCA7P",
        "outputId": "fd4ef260-0202-47dc-99bc-836509d8446a"
      },
      "execution_count": 11,
      "outputs": [
        {
          "output_type": "stream",
          "name": "stdout",
          "text": [
            "                                             Video_path  Playback_issue  \\\n",
            "0     https://shramin.blob.core.windows.net/files/vi...           False   \n",
            "1     https://shramin.blob.core.windows.net/files/vi...           False   \n",
            "3     https://shramin.blob.core.windows.net/files/vi...           False   \n",
            "4     https://shramin.blob.core.windows.net/files/vi...           False   \n",
            "5     https://shramin.blob.core.windows.net/files/vi...           False   \n",
            "...                                                 ...             ...   \n",
            "995   https://shramin.blob.core.windows.net/files/vi...           False   \n",
            "997   https://shramin.blob.core.windows.net/files/vi...           False   \n",
            "998   https://shramin.blob.core.windows.net/files/vi...           False   \n",
            "999   https://shramin.blob.core.windows.net/files/vi...           False   \n",
            "1000  https://shramin.blob.core.windows.net/files/vi...           False   \n",
            "\n",
            "     Duration_Category  Duration  \n",
            "0                Short      7.42  \n",
            "1                Short      0.87  \n",
            "3               Normal     13.24  \n",
            "4                Short      7.51  \n",
            "5               Normal     12.28  \n",
            "...                ...       ...  \n",
            "995             Normal     28.93  \n",
            "997               Long    437.33  \n",
            "998             Normal     17.10  \n",
            "999             Normal     23.54  \n",
            "1000             Short      6.44  \n",
            "\n",
            "[927 rows x 4 columns]\n"
          ]
        }
      ]
    },
    {
      "cell_type": "code",
      "execution_count": 12,
      "metadata": {
        "id": "Fzfbg8m5IS4R",
        "colab": {
          "base_uri": "https://localhost:8080/"
        },
        "outputId": "676d10b5-1a33-48a3-c418-24c0b10267d6"
      },
      "outputs": [
        {
          "output_type": "stream",
          "name": "stdout",
          "text": [
            "                                             Video_path  Playback_issue  \\\n",
            "0     https://shramin.blob.core.windows.net/files/vi...           False   \n",
            "1     https://shramin.blob.core.windows.net/files/vi...           False   \n",
            "3     https://shramin.blob.core.windows.net/files/vi...           False   \n",
            "4     https://shramin.blob.core.windows.net/files/vi...           False   \n",
            "5     https://shramin.blob.core.windows.net/files/vi...           False   \n",
            "...                                                 ...             ...   \n",
            "995   https://shramin.blob.core.windows.net/files/vi...           False   \n",
            "997   https://shramin.blob.core.windows.net/files/vi...           False   \n",
            "998   https://shramin.blob.core.windows.net/files/vi...           False   \n",
            "999   https://shramin.blob.core.windows.net/files/vi...           False   \n",
            "1000  https://shramin.blob.core.windows.net/files/vi...           False   \n",
            "\n",
            "     Duration_Category  Duration  \n",
            "0                Short      7.42  \n",
            "1                Short      0.87  \n",
            "3               Normal     13.24  \n",
            "4                Short      7.51  \n",
            "5               Normal     12.28  \n",
            "...                ...       ...  \n",
            "995             Normal     28.93  \n",
            "997               Long    437.33  \n",
            "998             Normal     17.10  \n",
            "999             Normal     23.54  \n",
            "1000             Short      6.44  \n",
            "\n",
            "[927 rows x 4 columns]\n"
          ]
        }
      ],
      "source": [
        "print(df_cleaned)"
      ]
    },
    {
      "cell_type": "code",
      "source": [
        "# Assuming you have pandas imported and your DataFrame is named df_cleaned\n",
        "\n",
        "# Save DataFrame to a CSV file\n",
        "df_cleaned.to_csv('df_cleaned.csv', index=False)\n",
        "\n",
        "# Download the CSV file\n",
        "from google.colab import files\n",
        "files.download('df_cleaned.csv')\n"
      ],
      "metadata": {
        "colab": {
          "base_uri": "https://localhost:8080/",
          "height": 17
        },
        "id": "AzAXNoZpzomt",
        "outputId": "f21e5cfd-7b2f-4f84-ff20-11afeab23956"
      },
      "execution_count": 13,
      "outputs": [
        {
          "output_type": "display_data",
          "data": {
            "text/plain": [
              "<IPython.core.display.Javascript object>"
            ],
            "application/javascript": [
              "\n",
              "    async function download(id, filename, size) {\n",
              "      if (!google.colab.kernel.accessAllowed) {\n",
              "        return;\n",
              "      }\n",
              "      const div = document.createElement('div');\n",
              "      const label = document.createElement('label');\n",
              "      label.textContent = `Downloading \"${filename}\": `;\n",
              "      div.appendChild(label);\n",
              "      const progress = document.createElement('progress');\n",
              "      progress.max = size;\n",
              "      div.appendChild(progress);\n",
              "      document.body.appendChild(div);\n",
              "\n",
              "      const buffers = [];\n",
              "      let downloaded = 0;\n",
              "\n",
              "      const channel = await google.colab.kernel.comms.open(id);\n",
              "      // Send a message to notify the kernel that we're ready.\n",
              "      channel.send({})\n",
              "\n",
              "      for await (const message of channel.messages) {\n",
              "        // Send a message to notify the kernel that we're ready.\n",
              "        channel.send({})\n",
              "        if (message.buffers) {\n",
              "          for (const buffer of message.buffers) {\n",
              "            buffers.push(buffer);\n",
              "            downloaded += buffer.byteLength;\n",
              "            progress.value = downloaded;\n",
              "          }\n",
              "        }\n",
              "      }\n",
              "      const blob = new Blob(buffers, {type: 'application/binary'});\n",
              "      const a = document.createElement('a');\n",
              "      a.href = window.URL.createObjectURL(blob);\n",
              "      a.download = filename;\n",
              "      div.appendChild(a);\n",
              "      a.click();\n",
              "      div.remove();\n",
              "    }\n",
              "  "
            ]
          },
          "metadata": {}
        },
        {
          "output_type": "display_data",
          "data": {
            "text/plain": [
              "<IPython.core.display.Javascript object>"
            ],
            "application/javascript": [
              "download(\"download_d5f3c91c-8b9d-4aa0-92b2-47c59b5add7e\", \"df_cleaned.csv\", 123651)"
            ]
          },
          "metadata": {}
        }
      ]
    },
    {
      "cell_type": "code",
      "source": [
        "# Assuming df and df_cleaned are the two DataFrames to be compared\n",
        "# Checking for differences between the DataFrames\n",
        "\n",
        "# Check if the DataFrames are equal\n",
        "dataframes_equal = df.equals(df_cleaned)\n",
        "\n",
        "if dataframes_equal:\n",
        "    print(\"The DataFrames 'df' and 'df_cleaned' are identical.\")\n",
        "else:\n",
        "    # Find the differences between the two DataFrames\n",
        "    diff = df.compare(df_cleaned)\n",
        "    print(\"Differences between 'df' and 'df_cleaned':\")\n",
        "    print(diff)\n"
      ],
      "metadata": {
        "colab": {
          "base_uri": "https://localhost:8080/"
        },
        "id": "Lzg08dBn0D-K",
        "outputId": "a2ddca47-6dce-4578-cde9-dfd0935d36a2"
      },
      "execution_count": 14,
      "outputs": [
        {
          "output_type": "stream",
          "name": "stdout",
          "text": [
            "The DataFrames 'df' and 'df_cleaned' are identical.\n"
          ]
        }
      ]
    },
    {
      "cell_type": "code",
      "source": [],
      "metadata": {
        "id": "Xg7G5iQk1imE"
      },
      "execution_count": null,
      "outputs": []
    }
  ],
  "metadata": {
    "colab": {
      "provenance": [],
      "authorship_tag": "ABX9TyO7TN7Z6Lkp/Wg9a9j9Lyb8",
      "include_colab_link": true
    },
    "kernelspec": {
      "display_name": "Python 3",
      "name": "python3"
    },
    "language_info": {
      "name": "python"
    }
  },
  "nbformat": 4,
  "nbformat_minor": 0
}